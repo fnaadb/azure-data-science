{
  "cells": [
    {
      "cell_type": "code",
      "source": [
        "import pandas as pd\n",
        "import numpy as np\n",
        "import matplotlib.pyplot as plt\n",
        "import matplotlib as mpl\n",
        "%matplotlib inline\n",
        "mpl.style.use('ggplot')"
      ],
      "outputs": [],
      "execution_count": 1,
      "metadata": {}
    },
    {
      "cell_type": "code",
      "source": [
        "car=pd.read_csv('data/good_car_data.csv')\n",
        "car.head()"
      ],
      "outputs": [
        {
          "output_type": "execute_result",
          "execution_count": 2,
          "data": {
            "text/html": "<div>\n<style scoped>\n    .dataframe tbody tr th:only-of-type {\n        vertical-align: middle;\n    }\n\n    .dataframe tbody tr th {\n        vertical-align: top;\n    }\n\n    .dataframe thead th {\n        text-align: right;\n    }\n</style>\n<table border=\"1\" class=\"dataframe\">\n  <thead>\n    <tr style=\"text-align: right;\">\n      <th></th>\n      <th>Unnamed: 0</th>\n      <th>name</th>\n      <th>company</th>\n      <th>year</th>\n      <th>Price</th>\n      <th>kms_driven</th>\n      <th>fuel_type</th>\n    </tr>\n  </thead>\n  <tbody>\n    <tr>\n      <th>0</th>\n      <td>0</td>\n      <td>Hyundai Santro Xing</td>\n      <td>Hyundai</td>\n      <td>2007</td>\n      <td>80000</td>\n      <td>45000</td>\n      <td>Petrol</td>\n    </tr>\n    <tr>\n      <th>1</th>\n      <td>1</td>\n      <td>Mahindra Jeep CL550</td>\n      <td>Mahindra</td>\n      <td>2006</td>\n      <td>425000</td>\n      <td>40</td>\n      <td>Diesel</td>\n    </tr>\n    <tr>\n      <th>2</th>\n      <td>2</td>\n      <td>Hyundai Grand i10</td>\n      <td>Hyundai</td>\n      <td>2014</td>\n      <td>325000</td>\n      <td>28000</td>\n      <td>Petrol</td>\n    </tr>\n    <tr>\n      <th>3</th>\n      <td>3</td>\n      <td>Ford EcoSport Titanium</td>\n      <td>Ford</td>\n      <td>2014</td>\n      <td>575000</td>\n      <td>36000</td>\n      <td>Diesel</td>\n    </tr>\n    <tr>\n      <th>4</th>\n      <td>4</td>\n      <td>Ford Figo</td>\n      <td>Ford</td>\n      <td>2012</td>\n      <td>175000</td>\n      <td>41000</td>\n      <td>Diesel</td>\n    </tr>\n  </tbody>\n</table>\n</div>",
            "text/plain": "   Unnamed: 0                    name   company  year   Price  kms_driven  \\\n0           0     Hyundai Santro Xing   Hyundai  2007   80000       45000   \n1           1     Mahindra Jeep CL550  Mahindra  2006  425000          40   \n2           2       Hyundai Grand i10   Hyundai  2014  325000       28000   \n3           3  Ford EcoSport Titanium      Ford  2014  575000       36000   \n4           4               Ford Figo      Ford  2012  175000       41000   \n\n  fuel_type  \n0    Petrol  \n1    Diesel  \n2    Petrol  \n3    Diesel  \n4    Diesel  "
          },
          "metadata": {}
        }
      ],
      "execution_count": 2,
      "metadata": {}
    },
    {
      "cell_type": "code",
      "source": [
        "car=car[car['Price']<6000000]\n",
        "car.shape"
      ],
      "outputs": [
        {
          "output_type": "execute_result",
          "execution_count": 3,
          "data": {
            "text/plain": "(815, 7)"
          },
          "metadata": {}
        }
      ],
      "execution_count": 3,
      "metadata": {}
    },
    {
      "cell_type": "code",
      "source": [
        "X=car[['name','company','year','kms_driven','fuel_type']]\n",
        "y=car['Price']"
      ],
      "outputs": [],
      "execution_count": 4,
      "metadata": {}
    },
    {
      "cell_type": "code",
      "source": [
        "from sklearn.model_selection import train_test_split\n",
        "X_train,X_test,y_train,y_test=train_test_split(X,y,test_size=0.2)"
      ],
      "outputs": [],
      "execution_count": 5,
      "metadata": {}
    },
    {
      "cell_type": "code",
      "source": [
        "from sklearn.linear_model import LinearRegression\n",
        "from sklearn.preprocessing import OneHotEncoder\n",
        "from sklearn.compose import make_column_transformer\n",
        "from sklearn.pipeline import make_pipeline\n",
        "from sklearn.metrics import r2_score"
      ],
      "outputs": [],
      "execution_count": 6,
      "metadata": {}
    },
    {
      "cell_type": "code",
      "source": [
        "counts =X['company'].value_counts()\n",
        "counts"
      ],
      "outputs": [
        {
          "output_type": "execute_result",
          "execution_count": 13,
          "data": {
            "text/plain": "Maruti        221\nHyundai       139\nMahindra       97\nTata           65\nHonda          60\nToyota         36\nChevrolet      34\nRenault        33\nFord           30\nVolkswagen     19\nSkoda          13\nAudi           11\nBMW             8\nMini            8\nDatsun          7\nMercedes        6\nMitsubishi      6\nNissan          6\nFiat            4\nForce           4\nHindustan       3\nJaguar          2\nJeep            1\nVolvo           1\nLand            1\nName: company, dtype: int64"
          },
          "metadata": {}
        }
      ],
      "execution_count": 13,
      "metadata": {}
    },
    {
      "cell_type": "code",
      "source": [
        "company_threshold=10\n",
        "repl = counts[counts<=company_threshold].index\n",
        "repl"
      ],
      "outputs": [
        {
          "output_type": "execute_result",
          "execution_count": 21,
          "data": {
            "text/plain": "Index(['BMW', 'Mini', 'Datsun', 'Mercedes', 'Mitsubishi', 'Nissan', 'Fiat',\n       'Force', 'Hindustan', 'Jaguar', 'Jeep', 'Volvo', 'Land'],\n      dtype='object')"
          },
          "metadata": {}
        }
      ],
      "execution_count": 21,
      "metadata": {}
    },
    {
      "cell_type": "code",
      "source": [
        "pd.get_dummies(X['company'].replace(repl,'uncommon'))"
      ],
      "outputs": [
        {
          "output_type": "execute_result",
          "execution_count": 22,
          "data": {
            "text/html": "<div>\n<style scoped>\n    .dataframe tbody tr th:only-of-type {\n        vertical-align: middle;\n    }\n\n    .dataframe tbody tr th {\n        vertical-align: top;\n    }\n\n    .dataframe thead th {\n        text-align: right;\n    }\n</style>\n<table border=\"1\" class=\"dataframe\">\n  <thead>\n    <tr style=\"text-align: right;\">\n      <th></th>\n      <th>Audi</th>\n      <th>Chevrolet</th>\n      <th>Ford</th>\n      <th>Honda</th>\n      <th>Hyundai</th>\n      <th>Mahindra</th>\n      <th>Maruti</th>\n      <th>Renault</th>\n      <th>Skoda</th>\n      <th>Tata</th>\n      <th>Toyota</th>\n      <th>Volkswagen</th>\n      <th>uncommon</th>\n    </tr>\n  </thead>\n  <tbody>\n    <tr>\n      <th>0</th>\n      <td>0</td>\n      <td>0</td>\n      <td>0</td>\n      <td>0</td>\n      <td>1</td>\n      <td>0</td>\n      <td>0</td>\n      <td>0</td>\n      <td>0</td>\n      <td>0</td>\n      <td>0</td>\n      <td>0</td>\n      <td>0</td>\n    </tr>\n    <tr>\n      <th>1</th>\n      <td>0</td>\n      <td>0</td>\n      <td>0</td>\n      <td>0</td>\n      <td>0</td>\n      <td>1</td>\n      <td>0</td>\n      <td>0</td>\n      <td>0</td>\n      <td>0</td>\n      <td>0</td>\n      <td>0</td>\n      <td>0</td>\n    </tr>\n    <tr>\n      <th>2</th>\n      <td>0</td>\n      <td>0</td>\n      <td>0</td>\n      <td>0</td>\n      <td>1</td>\n      <td>0</td>\n      <td>0</td>\n      <td>0</td>\n      <td>0</td>\n      <td>0</td>\n      <td>0</td>\n      <td>0</td>\n      <td>0</td>\n    </tr>\n    <tr>\n      <th>3</th>\n      <td>0</td>\n      <td>0</td>\n      <td>1</td>\n      <td>0</td>\n      <td>0</td>\n      <td>0</td>\n      <td>0</td>\n      <td>0</td>\n      <td>0</td>\n      <td>0</td>\n      <td>0</td>\n      <td>0</td>\n      <td>0</td>\n    </tr>\n    <tr>\n      <th>4</th>\n      <td>0</td>\n      <td>0</td>\n      <td>1</td>\n      <td>0</td>\n      <td>0</td>\n      <td>0</td>\n      <td>0</td>\n      <td>0</td>\n      <td>0</td>\n      <td>0</td>\n      <td>0</td>\n      <td>0</td>\n      <td>0</td>\n    </tr>\n    <tr>\n      <th>...</th>\n      <td>...</td>\n      <td>...</td>\n      <td>...</td>\n      <td>...</td>\n      <td>...</td>\n      <td>...</td>\n      <td>...</td>\n      <td>...</td>\n      <td>...</td>\n      <td>...</td>\n      <td>...</td>\n      <td>...</td>\n      <td>...</td>\n    </tr>\n    <tr>\n      <th>811</th>\n      <td>0</td>\n      <td>0</td>\n      <td>0</td>\n      <td>0</td>\n      <td>0</td>\n      <td>0</td>\n      <td>1</td>\n      <td>0</td>\n      <td>0</td>\n      <td>0</td>\n      <td>0</td>\n      <td>0</td>\n      <td>0</td>\n    </tr>\n    <tr>\n      <th>812</th>\n      <td>0</td>\n      <td>0</td>\n      <td>0</td>\n      <td>0</td>\n      <td>0</td>\n      <td>0</td>\n      <td>0</td>\n      <td>0</td>\n      <td>0</td>\n      <td>1</td>\n      <td>0</td>\n      <td>0</td>\n      <td>0</td>\n    </tr>\n    <tr>\n      <th>813</th>\n      <td>0</td>\n      <td>0</td>\n      <td>0</td>\n      <td>0</td>\n      <td>0</td>\n      <td>0</td>\n      <td>0</td>\n      <td>0</td>\n      <td>0</td>\n      <td>0</td>\n      <td>1</td>\n      <td>0</td>\n      <td>0</td>\n    </tr>\n    <tr>\n      <th>814</th>\n      <td>0</td>\n      <td>0</td>\n      <td>0</td>\n      <td>0</td>\n      <td>0</td>\n      <td>0</td>\n      <td>0</td>\n      <td>0</td>\n      <td>0</td>\n      <td>1</td>\n      <td>0</td>\n      <td>0</td>\n      <td>0</td>\n    </tr>\n    <tr>\n      <th>815</th>\n      <td>0</td>\n      <td>0</td>\n      <td>0</td>\n      <td>0</td>\n      <td>0</td>\n      <td>1</td>\n      <td>0</td>\n      <td>0</td>\n      <td>0</td>\n      <td>0</td>\n      <td>0</td>\n      <td>0</td>\n      <td>0</td>\n    </tr>\n  </tbody>\n</table>\n<p>815 rows × 13 columns</p>\n</div>",
            "text/plain": "     Audi  Chevrolet  Ford  Honda  Hyundai  Mahindra  Maruti  Renault  Skoda  \\\n0       0          0     0      0        1         0       0        0      0   \n1       0          0     0      0        0         1       0        0      0   \n2       0          0     0      0        1         0       0        0      0   \n3       0          0     1      0        0         0       0        0      0   \n4       0          0     1      0        0         0       0        0      0   \n..    ...        ...   ...    ...      ...       ...     ...      ...    ...   \n811     0          0     0      0        0         0       1        0      0   \n812     0          0     0      0        0         0       0        0      0   \n813     0          0     0      0        0         0       0        0      0   \n814     0          0     0      0        0         0       0        0      0   \n815     0          0     0      0        0         1       0        0      0   \n\n     Tata  Toyota  Volkswagen  uncommon  \n0       0       0           0         0  \n1       0       0           0         0  \n2       0       0           0         0  \n3       0       0           0         0  \n4       0       0           0         0  \n..    ...     ...         ...       ...  \n811     0       0           0         0  \n812     1       0           0         0  \n813     0       1           0         0  \n814     1       0           0         0  \n815     0       0           0         0  \n\n[815 rows x 13 columns]"
          },
          "metadata": {}
        }
      ],
      "execution_count": 22,
      "metadata": {}
    },
    {
      "cell_type": "code",
      "source": [
        "X_train['name'].value_counts()"
      ],
      "outputs": [
        {
          "output_type": "execute_result",
          "execution_count": 23,
          "data": {
            "text/plain": "Maruti Suzuki Alto       37\nMaruti Suzuki Swift      36\nMaruti Suzuki Wagon      23\nHyundai Grand i10        13\nHyundai Elite i20        13\n                         ..\nHyundai i10 Era           1\nMahindra Logan Diesel     1\nChevrolet Enjoy 1.4       1\nChevrolet Enjoy           1\nHonda Accord              1\nName: name, Length: 235, dtype: int64"
          },
          "metadata": {}
        }
      ],
      "execution_count": 23,
      "metadata": {}
    },
    {
      "cell_type": "code",
      "source": [
        "name_threshold=7\n",
        "name_counts = X_train['name'].value_counts()\n",
        "name_counts_less_than_10 = name_counts[name_counts<name_threshold].index\n",
        "name_counts_less_than_10"
      ],
      "outputs": [
        {
          "output_type": "execute_result",
          "execution_count": 27,
          "data": {
            "text/plain": "Index(['Mini Cooper S', 'Tata Indigo CS', 'Honda Amaze', 'Tata Sumo Gold',\n       'Hyundai Verna Fluidic', 'Hyundai i20 Asta', 'Hyundai i20 Magna',\n       'Toyota Innova 2.5', 'Mahindra Quanto C8', 'Chevrolet Beat LS',\n       ...\n       'Hyundai Verna 1.4', 'Tata Zest Quadrajet', 'Hyundai Xcent Base',\n       'Tata Tigor Revotron', 'Tata Indigo Marina', 'Hyundai i10 Era',\n       'Mahindra Logan Diesel', 'Chevrolet Enjoy 1.4', 'Chevrolet Enjoy',\n       'Honda Accord'],\n      dtype='object', length=219)"
          },
          "metadata": {}
        }
      ],
      "execution_count": 27,
      "metadata": {}
    },
    {
      "cell_type": "code",
      "source": [
        "pd.get_dummies(X_train['name'].replace(name_counts_less_than_10,'name_uncommon'), drop_first=True)"
      ],
      "outputs": [
        {
          "output_type": "execute_result",
          "execution_count": 28,
          "data": {
            "text/html": "<div>\n<style scoped>\n    .dataframe tbody tr th:only-of-type {\n        vertical-align: middle;\n    }\n\n    .dataframe tbody tr th {\n        vertical-align: top;\n    }\n\n    .dataframe thead th {\n        text-align: right;\n    }\n</style>\n<table border=\"1\" class=\"dataframe\">\n  <thead>\n    <tr style=\"text-align: right;\">\n      <th></th>\n      <th>Honda City 1.5</th>\n      <th>Hyundai Elite i20</th>\n      <th>Hyundai Grand i10</th>\n      <th>Hyundai Santro Xing</th>\n      <th>Mahindra Scorpio S10</th>\n      <th>Maruti Suzuki Alto</th>\n      <th>Maruti Suzuki Dzire</th>\n      <th>Maruti Suzuki Ertiga</th>\n      <th>Maruti Suzuki Omni</th>\n      <th>Maruti Suzuki Swift</th>\n      <th>Maruti Suzuki Wagon</th>\n      <th>Maruti Suzuki Zen</th>\n      <th>Tata Indica V2</th>\n      <th>Tata Indigo eCS</th>\n      <th>Toyota Corolla Altis</th>\n      <th>name_uncommon</th>\n    </tr>\n  </thead>\n  <tbody>\n    <tr>\n      <th>128</th>\n      <td>1</td>\n      <td>0</td>\n      <td>0</td>\n      <td>0</td>\n      <td>0</td>\n      <td>0</td>\n      <td>0</td>\n      <td>0</td>\n      <td>0</td>\n      <td>0</td>\n      <td>0</td>\n      <td>0</td>\n      <td>0</td>\n      <td>0</td>\n      <td>0</td>\n      <td>0</td>\n    </tr>\n    <tr>\n      <th>682</th>\n      <td>0</td>\n      <td>0</td>\n      <td>0</td>\n      <td>0</td>\n      <td>0</td>\n      <td>0</td>\n      <td>0</td>\n      <td>0</td>\n      <td>0</td>\n      <td>0</td>\n      <td>0</td>\n      <td>0</td>\n      <td>0</td>\n      <td>0</td>\n      <td>0</td>\n      <td>1</td>\n    </tr>\n    <tr>\n      <th>147</th>\n      <td>0</td>\n      <td>0</td>\n      <td>0</td>\n      <td>0</td>\n      <td>0</td>\n      <td>0</td>\n      <td>0</td>\n      <td>0</td>\n      <td>0</td>\n      <td>0</td>\n      <td>0</td>\n      <td>0</td>\n      <td>0</td>\n      <td>0</td>\n      <td>0</td>\n      <td>1</td>\n    </tr>\n    <tr>\n      <th>728</th>\n      <td>0</td>\n      <td>0</td>\n      <td>0</td>\n      <td>0</td>\n      <td>0</td>\n      <td>0</td>\n      <td>0</td>\n      <td>0</td>\n      <td>0</td>\n      <td>0</td>\n      <td>0</td>\n      <td>0</td>\n      <td>1</td>\n      <td>0</td>\n      <td>0</td>\n      <td>0</td>\n    </tr>\n    <tr>\n      <th>282</th>\n      <td>0</td>\n      <td>0</td>\n      <td>0</td>\n      <td>0</td>\n      <td>0</td>\n      <td>0</td>\n      <td>0</td>\n      <td>0</td>\n      <td>0</td>\n      <td>0</td>\n      <td>0</td>\n      <td>0</td>\n      <td>0</td>\n      <td>0</td>\n      <td>0</td>\n      <td>1</td>\n    </tr>\n    <tr>\n      <th>...</th>\n      <td>...</td>\n      <td>...</td>\n      <td>...</td>\n      <td>...</td>\n      <td>...</td>\n      <td>...</td>\n      <td>...</td>\n      <td>...</td>\n      <td>...</td>\n      <td>...</td>\n      <td>...</td>\n      <td>...</td>\n      <td>...</td>\n      <td>...</td>\n      <td>...</td>\n      <td>...</td>\n    </tr>\n    <tr>\n      <th>686</th>\n      <td>0</td>\n      <td>0</td>\n      <td>0</td>\n      <td>0</td>\n      <td>0</td>\n      <td>0</td>\n      <td>0</td>\n      <td>0</td>\n      <td>0</td>\n      <td>0</td>\n      <td>0</td>\n      <td>0</td>\n      <td>0</td>\n      <td>0</td>\n      <td>0</td>\n      <td>1</td>\n    </tr>\n    <tr>\n      <th>117</th>\n      <td>0</td>\n      <td>0</td>\n      <td>0</td>\n      <td>0</td>\n      <td>0</td>\n      <td>0</td>\n      <td>1</td>\n      <td>0</td>\n      <td>0</td>\n      <td>0</td>\n      <td>0</td>\n      <td>0</td>\n      <td>0</td>\n      <td>0</td>\n      <td>0</td>\n      <td>0</td>\n    </tr>\n    <tr>\n      <th>638</th>\n      <td>0</td>\n      <td>0</td>\n      <td>0</td>\n      <td>0</td>\n      <td>0</td>\n      <td>0</td>\n      <td>0</td>\n      <td>0</td>\n      <td>0</td>\n      <td>0</td>\n      <td>0</td>\n      <td>0</td>\n      <td>0</td>\n      <td>0</td>\n      <td>0</td>\n      <td>1</td>\n    </tr>\n    <tr>\n      <th>326</th>\n      <td>0</td>\n      <td>0</td>\n      <td>0</td>\n      <td>0</td>\n      <td>0</td>\n      <td>0</td>\n      <td>0</td>\n      <td>0</td>\n      <td>0</td>\n      <td>0</td>\n      <td>0</td>\n      <td>0</td>\n      <td>0</td>\n      <td>0</td>\n      <td>0</td>\n      <td>1</td>\n    </tr>\n    <tr>\n      <th>811</th>\n      <td>0</td>\n      <td>0</td>\n      <td>0</td>\n      <td>0</td>\n      <td>0</td>\n      <td>0</td>\n      <td>0</td>\n      <td>0</td>\n      <td>0</td>\n      <td>0</td>\n      <td>0</td>\n      <td>0</td>\n      <td>0</td>\n      <td>0</td>\n      <td>0</td>\n      <td>1</td>\n    </tr>\n  </tbody>\n</table>\n<p>652 rows × 16 columns</p>\n</div>",
            "text/plain": "     Honda City 1.5  Hyundai Elite i20  Hyundai Grand i10  \\\n128               1                  0                  0   \n682               0                  0                  0   \n147               0                  0                  0   \n728               0                  0                  0   \n282               0                  0                  0   \n..              ...                ...                ...   \n686               0                  0                  0   \n117               0                  0                  0   \n638               0                  0                  0   \n326               0                  0                  0   \n811               0                  0                  0   \n\n     Hyundai Santro Xing  Mahindra Scorpio S10  Maruti Suzuki Alto  \\\n128                    0                     0                   0   \n682                    0                     0                   0   \n147                    0                     0                   0   \n728                    0                     0                   0   \n282                    0                     0                   0   \n..                   ...                   ...                 ...   \n686                    0                     0                   0   \n117                    0                     0                   0   \n638                    0                     0                   0   \n326                    0                     0                   0   \n811                    0                     0                   0   \n\n     Maruti Suzuki Dzire  Maruti Suzuki Ertiga  Maruti Suzuki Omni  \\\n128                    0                     0                   0   \n682                    0                     0                   0   \n147                    0                     0                   0   \n728                    0                     0                   0   \n282                    0                     0                   0   \n..                   ...                   ...                 ...   \n686                    0                     0                   0   \n117                    1                     0                   0   \n638                    0                     0                   0   \n326                    0                     0                   0   \n811                    0                     0                   0   \n\n     Maruti Suzuki Swift  Maruti Suzuki Wagon  Maruti Suzuki Zen  \\\n128                    0                    0                  0   \n682                    0                    0                  0   \n147                    0                    0                  0   \n728                    0                    0                  0   \n282                    0                    0                  0   \n..                   ...                  ...                ...   \n686                    0                    0                  0   \n117                    0                    0                  0   \n638                    0                    0                  0   \n326                    0                    0                  0   \n811                    0                    0                  0   \n\n     Tata Indica V2  Tata Indigo eCS  Toyota Corolla Altis  name_uncommon  \n128               0                0                     0              0  \n682               0                0                     0              1  \n147               0                0                     0              1  \n728               1                0                     0              0  \n282               0                0                     0              1  \n..              ...              ...                   ...            ...  \n686               0                0                     0              1  \n117               0                0                     0              0  \n638               0                0                     0              1  \n326               0                0                     0              1  \n811               0                0                     0              1  \n\n[652 rows x 16 columns]"
          },
          "metadata": {}
        }
      ],
      "execution_count": 28,
      "metadata": {}
    },
    {
      "cell_type": "code",
      "source": [
        "from sklearn.preprocessing import OneHotEncoder\n",
        "#by default sparse matrix\n",
        "ohe =OneHotEncoder()\n",
        "X_train_new= ohe.fit_transform(X_train[['company','fuel_type']]).toarray()"
      ],
      "outputs": [],
      "execution_count": 46,
      "metadata": {}
    },
    {
      "cell_type": "code",
      "source": [
        "ohe_1 =OneHotEncoder(drop='first', sparse=False)\n",
        "X_train_new_1= ohe_1.fit_transform(X_train[['company','fuel_type']])\n",
        "\n",
        "X_train_new_1"
      ],
      "outputs": [
        {
          "output_type": "execute_result",
          "execution_count": 51,
          "data": {
            "text/plain": "array([[0., 0., 0., ..., 0., 0., 1.],\n       [0., 0., 0., ..., 0., 0., 1.],\n       [0., 0., 0., ..., 0., 0., 1.],\n       ...,\n       [0., 0., 0., ..., 0., 0., 0.],\n       [0., 0., 0., ..., 0., 0., 1.],\n       [0., 0., 0., ..., 0., 0., 1.]])"
          },
          "metadata": {}
        }
      ],
      "execution_count": 51,
      "metadata": {}
    },
    {
      "cell_type": "code",
      "source": [
        "np.hstack((X_train[['name','kms_driven']].values,X_train_new_1))"
      ],
      "outputs": [
        {
          "output_type": "execute_result",
          "execution_count": 52,
          "data": {
            "text/plain": "array([['Honda City 1.5', 35000, 0.0, ..., 0.0, 0.0, 1.0],\n       ['Hyundai Santro AE', 45000, 0.0, ..., 0.0, 0.0, 1.0],\n       ['Ford EcoSport', 39000, 0.0, ..., 0.0, 0.0, 1.0],\n       ...,\n       ['Mahindra KUV100', 35000, 0.0, ..., 0.0, 0.0, 0.0],\n       ['Hyundai Elantra SX', 20000, 0.0, ..., 0.0, 0.0, 1.0],\n       ['Maruti Suzuki Ritz', 50000, 0.0, ..., 0.0, 0.0, 1.0]],\n      dtype=object)"
          },
          "metadata": {}
        }
      ],
      "execution_count": 52,
      "metadata": {}
    },
    {
      "cell_type": "code",
      "source": [
        "X_train[['name']]"
      ],
      "outputs": [
        {
          "output_type": "execute_result",
          "execution_count": 63,
          "data": {
            "text/html": "<div>\n<style scoped>\n    .dataframe tbody tr th:only-of-type {\n        vertical-align: middle;\n    }\n\n    .dataframe tbody tr th {\n        vertical-align: top;\n    }\n\n    .dataframe thead th {\n        text-align: right;\n    }\n</style>\n<table border=\"1\" class=\"dataframe\">\n  <thead>\n    <tr style=\"text-align: right;\">\n      <th></th>\n      <th>name</th>\n    </tr>\n  </thead>\n  <tbody>\n    <tr>\n      <th>128</th>\n      <td>Honda City 1.5</td>\n    </tr>\n    <tr>\n      <th>682</th>\n      <td>Hyundai Santro AE</td>\n    </tr>\n    <tr>\n      <th>147</th>\n      <td>Ford EcoSport</td>\n    </tr>\n    <tr>\n      <th>728</th>\n      <td>Tata Indica V2</td>\n    </tr>\n    <tr>\n      <th>282</th>\n      <td>Ford EcoSport Titanium</td>\n    </tr>\n    <tr>\n      <th>...</th>\n      <td>...</td>\n    </tr>\n    <tr>\n      <th>686</th>\n      <td>Hyundai Santro</td>\n    </tr>\n    <tr>\n      <th>117</th>\n      <td>Maruti Suzuki Dzire</td>\n    </tr>\n    <tr>\n      <th>638</th>\n      <td>Mahindra KUV100</td>\n    </tr>\n    <tr>\n      <th>326</th>\n      <td>Hyundai Elantra SX</td>\n    </tr>\n    <tr>\n      <th>811</th>\n      <td>Maruti Suzuki Ritz</td>\n    </tr>\n  </tbody>\n</table>\n<p>652 rows × 1 columns</p>\n</div>",
            "text/plain": "                       name\n128          Honda City 1.5\n682       Hyundai Santro AE\n147           Ford EcoSport\n728          Tata Indica V2\n282  Ford EcoSport Titanium\n..                      ...\n686          Hyundai Santro\n117     Maruti Suzuki Dzire\n638         Mahindra KUV100\n326      Hyundai Elantra SX\n811      Maruti Suzuki Ritz\n\n[652 rows x 1 columns]"
          },
          "metadata": {}
        }
      ],
      "execution_count": 63,
      "metadata": {}
    },
    {
      "cell_type": "code",
      "source": [
        "X_train[['name']].shape"
      ],
      "outputs": [
        {
          "output_type": "execute_result",
          "execution_count": 62,
          "data": {
            "text/plain": "(652, 1)"
          },
          "metadata": {}
        }
      ],
      "execution_count": 62,
      "metadata": {}
    },
    {
      "cell_type": "code",
      "source": [
        "X_train['name'].shape"
      ],
      "outputs": [
        {
          "output_type": "execute_result",
          "execution_count": 65,
          "data": {
            "text/plain": "(652,)"
          },
          "metadata": {}
        }
      ],
      "execution_count": 65,
      "metadata": {}
    },
    {
      "cell_type": "code",
      "source": [
        "X_train[['name']].to_numpy()"
      ],
      "outputs": [
        {
          "output_type": "execute_result",
          "execution_count": 66,
          "data": {
            "text/plain": "array([['Honda City 1.5'],\n       ['Hyundai Santro AE'],\n       ['Ford EcoSport'],\n       ['Tata Indica V2'],\n       ['Ford EcoSport Titanium'],\n       ['Honda Brio V'],\n       ['Honda City'],\n       ['Mahindra Jeep CL550'],\n       ['Fiat Petra ELX'],\n       ['Tata Manza ELAN'],\n       ['Maruti Suzuki Omni'],\n       ['Renault Duster 110'],\n       ['Maruti Suzuki Swift'],\n       ['Hyundai Elite i20'],\n       ['Honda Amaze'],\n       ['Hyundai Santro Xing'],\n       ['Mahindra Scorpio S10'],\n       ['Tata Manza Aura'],\n       ['Toyota Corolla Altis'],\n       ['Hyundai Eon D'],\n       ['Mahindra Xylo E8'],\n       ['Maruti Suzuki Alto'],\n       ['Tata Zest XE'],\n       ['Tata Venture EX'],\n       ['Maruti Suzuki Alto'],\n       ['Hyundai Verna 1.6'],\n       ['Mahindra XUV500'],\n       ['Maruti Suzuki Swift'],\n       ['Hyundai Accent Executive'],\n       ['Maruti Suzuki Ertiga'],\n       ['Chevrolet Tavera LS'],\n       ['Mercedes Benz B'],\n       ['Audi A4 2.0'],\n       ['Jaguar XE XE'],\n       ['Mahindra Xylo E4'],\n       ['Maruti Suzuki Swift'],\n       ['Maruti Suzuki Ritz'],\n       ['Maruti Suzuki SX4'],\n       ['Toyota Etios GD'],\n       ['Honda Amaze 1.5'],\n       ['Honda City 1.5'],\n       ['Maruti Suzuki Versa'],\n       ['Maruti Suzuki Swift'],\n       ['Maruti Suzuki Alto'],\n       ['Maruti Suzuki Versa'],\n       ['Mahindra Scorpio S10'],\n       ['Toyota Innova 2.5'],\n       ['Chevrolet Beat Diesel'],\n       ['Maruti Suzuki Dzire'],\n       ['Toyota Innova 2.5'],\n       ['Maruti Suzuki Wagon'],\n       ['Chevrolet Beat LS'],\n       ['Hyundai Creta 1.6'],\n       ['Mahindra XUV500 W8'],\n       ['Skoda Laura'],\n       ['Renault Kwid 1.0'],\n       ['Toyota Innova 2.0'],\n       ['Datsun Redi GO'],\n       ['Maruti Suzuki Ertiga'],\n       ['Chevrolet Beat Diesel'],\n       ['Maruti Suzuki Alto'],\n       ['Hyundai Accent'],\n       ['Maruti Suzuki Alto'],\n       ['Hindustan Motors Ambassador'],\n       ['Maruti Suzuki Wagon'],\n       ['Mahindra KUV100 K8'],\n       ['Ford Ikon 1.6'],\n       ['Toyota Fortuner 3.0'],\n       ['Fiat Linea Emotion'],\n       ['Mahindra KUV100'],\n       ['Audi A6 2.0'],\n       ['Hyundai Verna'],\n       ['Chevrolet Sail 1.2'],\n       ['Hyundai i20 Sportz'],\n       ['Maruti Suzuki Wagon'],\n       ['Toyota Etios GD'],\n       ['Mahindra Scorpio S4'],\n       ['Honda Amaze 1.5'],\n       ['Tata Indica V2'],\n       ['Audi Q7'],\n       ['Audi A4 1.8'],\n       ['Honda City 1.5'],\n       ['Tata Indigo eCS'],\n       ['Maruti Suzuki Swift'],\n       ['Maruti Suzuki Alto'],\n       ['Maruti Suzuki Zen'],\n       ['Hyundai i10 Magna'],\n       ['Maruti Suzuki Wagon'],\n       ['Hyundai Eon Magna'],\n       ['Ford Fiesta SXi'],\n       ['Jaguar XF 2.2'],\n       ['Nissan Sunny'],\n       ['Mahindra Xylo E4'],\n       ['Maruti Suzuki Alto'],\n       ['Hyundai Elite i20'],\n       ['Maruti Suzuki Swift'],\n       ['Hyundai i20 Magna'],\n       ['Maruti Suzuki Dzire'],\n       ['Maruti Suzuki A'],\n       ['Honda Mobilio S'],\n       ['Maruti Suzuki Wagon'],\n       ['Chevrolet Spark LS'],\n       ['Ford Figo Petrol'],\n       ['Maruti Suzuki Ertiga'],\n       ['Maruti Suzuki Wagon'],\n       ['Toyota Corolla Altis'],\n       ['Maruti Suzuki Swift'],\n       ['Hyundai i10 Era'],\n       ['Hyundai Santro AE'],\n       ['Volkswagen Vento Konekt'],\n       ['Mahindra TUV300 T4'],\n       ['Tata Manza Aqua'],\n       ['Maruti Suzuki Swift'],\n       ['Hyundai i20 Asta'],\n       ['BMW X1 xDrive20d'],\n       ['Tata Indigo eCS'],\n       ['Maruti Suzuki Wagon'],\n       ['Honda City 1.5'],\n       ['Maruti Suzuki Wagon'],\n       ['Maruti Suzuki Zen'],\n       ['Mahindra Scorpio S10'],\n       ['Mahindra Jeep CL550'],\n       ['Maruti Suzuki Estilo'],\n       ['Maruti Suzuki Esteem'],\n       ['Hyundai Elite i20'],\n       ['Hyundai Elite i20'],\n       ['Toyota Corolla Altis'],\n       ['Maruti Suzuki Versa'],\n       ['Hyundai Getz Prime'],\n       ['Hyundai i20 Magna'],\n       ['Hindustan Motors Ambassador'],\n       ['Maruti Suzuki Alto'],\n       ['Renault Kwid RXT'],\n       ['Maruti Suzuki Alto'],\n       ['Honda City 1.5'],\n       ['Maruti Suzuki Swift'],\n       ['Maruti Suzuki Omni'],\n       ['Hyundai Grand i10'],\n       ['Mahindra Scorpio VLX'],\n       ['Hyundai i20 Sportz'],\n       ['Maruti Suzuki Wagon'],\n       ['Hyundai Eon'],\n       ['Tata Indica'],\n       ['Toyota Corolla Altis'],\n       ['Tata Indigo eCS'],\n       ['Maruti Suzuki Wagon'],\n       ['Mahindra XUV500 W6'],\n       ['Hyundai Fluidic Verna'],\n       ['Volkswagen Polo'],\n       ['Toyota Etios Liva'],\n       ['Volkswagen Vento Comfortline'],\n       ['Maruti Suzuki Dzire'],\n       ['Chevrolet Cruze LTZ'],\n       ['Hyundai i10 Sportz'],\n       ['Mahindra XUV500'],\n       ['Maruti Suzuki Alto'],\n       ['Mercedes Benz C'],\n       ['Renault Duster 85'],\n       ['Mahindra Scorpio VLX'],\n       ['Hyundai i10'],\n       ['Maruti Suzuki Swift'],\n       ['Nissan Terrano XL'],\n       ['Honda Amaze'],\n       ['Skoda Fabia Classic'],\n       ['Tata Indica V2'],\n       ['Hyundai i20 Active'],\n       ['Toyota Innova 2.5'],\n       ['Maruti Suzuki Alto'],\n       ['Maruti Suzuki Alto'],\n       ['Skoda Rapid Elegance'],\n       ['Chevrolet Beat LS'],\n       ['Toyota Innova 2.5'],\n       ['Maruti Suzuki Vitara'],\n       ['Hyundai Elite i20'],\n       ['Hyundai Verna 1.6'],\n       ['Volkswagen Polo Trendline'],\n       ['Jeep Wrangler Unlimited'],\n       ['Hyundai Verna 1.6'],\n       ['Chevrolet Enjoy'],\n       ['Mahindra Quanto C8'],\n       ['Mahindra XUV500'],\n       ['Honda Amaze'],\n       ['Tata Zest XE'],\n       ['Maruti Suzuki Alto'],\n       ['Volkswagen Jetta Comfortline'],\n       ['Chevrolet Sail UVA'],\n       ['Volkswagen Vento Konekt'],\n       ['Maruti Suzuki Zen'],\n       ['Datsun Redi GO'],\n       ['Maruti Suzuki Alto'],\n       ['Maruti Suzuki Swift'],\n       ['Maruti Suzuki SX4'],\n       ['Maruti Suzuki Swift'],\n       ['Maruti Suzuki Wagon'],\n       ['Chevrolet Spark 1.0'],\n       ['Ford EcoSport Ambiente'],\n       ['Maruti Suzuki Swift'],\n       ['Tata Sumo Gold'],\n       ['Nissan Sunny XL'],\n       ['Mahindra Scorpio SLX'],\n       ['Renault Lodgy 85'],\n       ['Hyundai Grand i10'],\n       ['Hyundai i20 Active'],\n       ['Hyundai Eon D'],\n       ['Mitsubishi Pajero Sport'],\n       ['Hyundai Verna Fluidic'],\n       ['Maruti Suzuki Zen'],\n       ['Chevrolet Beat LT'],\n       ['Mahindra Bolero SLE'],\n       ['Renault Duster 110'],\n       ['Maruti Suzuki Alto'],\n       ['Honda Amaze 1.2'],\n       ['Ford Ikon 1.3'],\n       ['Honda City'],\n       ['Maruti Suzuki Ertiga'],\n       ['Datsun Go Plus'],\n       ['Renault Duster 85'],\n       ['Maruti Suzuki Omni'],\n       ['Maruti Suzuki Wagon'],\n       ['Mahindra Scorpio SLE'],\n       ['Toyota Etios Liva'],\n       ['Honda City'],\n       ['Chevrolet Cruze LTZ'],\n       ['Tata Indigo eCS'],\n       ['Hyundai Elite i20'],\n       ['Hyundai Grand i10'],\n       ['Mini Cooper S'],\n       ['Maruti Suzuki Dzire'],\n       ['Hyundai Creta'],\n       ['Mahindra Quanto C8'],\n       ['Toyota Fortuner'],\n       ['Maruti Suzuki Wagon'],\n       ['Skoda Octavia Classic'],\n       ['Ford EcoSport Trend'],\n       ['Hyundai Verna Transform'],\n       ['Force Motors One'],\n       ['Maruti Suzuki Zen'],\n       ['Honda Mobilio'],\n       ['Hyundai Santro Xing'],\n       ['Hyundai Verna 1.6'],\n       ['Chevrolet Tavera Neo'],\n       ['Volkswagen Polo Comfortline'],\n       ['Hyundai Santro Xing'],\n       ['Toyota Corolla Altis'],\n       ['Skoda Fabia 1.2L'],\n       ['Renault Duster 85'],\n       ['Maruti Suzuki Ertiga'],\n       ['Chevrolet Tavera Neo'],\n       ['Mahindra Bolero DI'],\n       ['Mahindra TUV300 T8'],\n       ['Hyundai i20 Active'],\n       ['Maruti Suzuki Swift'],\n       ['Ford EcoSport Ambiente'],\n       ['Maruti Suzuki 800'],\n       ['Hyundai i20 Sportz'],\n       ['Mahindra Scorpio SLX'],\n       ['Tata Indigo Marina'],\n       ['Tata Indigo eCS'],\n       ['Tata Zest Quadrajet'],\n       ['Honda City'],\n       ['Chevrolet Beat LT'],\n       ['Renault Duster RxL'],\n       ['Tata Manza'],\n       ['Maruti Suzuki Alto'],\n       ['Tata Nano Cx'],\n       ['Maruti Suzuki Ertiga'],\n       ['Mahindra KUV100 K8'],\n       ['Hyundai Elite i20'],\n       ['Maruti Suzuki Eeco'],\n       ['Maruti Suzuki Swift'],\n       ['Toyota Fortuner 3.0'],\n       ['Maruti Suzuki Alto'],\n       ['Hyundai Fluidic Verna'],\n       ['Maruti Suzuki Zen'],\n       ['Mahindra Jeep MM'],\n       ['Chevrolet Enjoy 1.4'],\n       ['Mercedes Benz C'],\n       ['Volkswagen Polo Highline1.2L'],\n       ['Renault Kwid RXT'],\n       ['Maruti Suzuki Omni'],\n       ['Renault Duster 110PS'],\n       ['Datsun Redi GO'],\n       ['Hyundai Santro Xing'],\n       ['Maruti Suzuki Stingray'],\n       ['Hyundai i20 Asta'],\n       ['Hyundai Verna Fluidic'],\n       ['Tata Sumo Gold'],\n       ['Maruti Suzuki Wagon'],\n       ['Toyota Innova 2.0'],\n       ['Maruti Suzuki Alto'],\n       ['Skoda Fabia 1.2L'],\n       ['Honda Amaze'],\n       ['Volkswagen Polo Highline1.2L'],\n       ['Audi A3 Cabriolet'],\n       ['Maruti Suzuki Swift'],\n       ['Renault Scala RxL'],\n       ['Mahindra Xylo D2'],\n       ['Honda City'],\n       ['Maruti Suzuki Swift'],\n       ['Tata Indigo LX'],\n       ['BMW 3 Series'],\n       ['Tata Zest XE'],\n       ['Maruti Suzuki Celerio'],\n       ['Hyundai i20 Asta'],\n       ['Tata Indigo eCS'],\n       ['Ford EcoSport Titanium'],\n       ['Hyundai Xcent SX'],\n       ['Mahindra Scorpio S10'],\n       ['Tata Indica V2'],\n       ['Tata Indigo CS'],\n       ['Toyota Corolla'],\n       ['Volkswagen Polo'],\n       ['Maruti Suzuki Baleno'],\n       ['Maruti Suzuki Alto'],\n       ['Honda City 1.5'],\n       ['Mahindra Jeep CL550'],\n       ['Maruti Suzuki Alto'],\n       ['Mahindra Xylo E8'],\n       ['Maruti Suzuki Alto'],\n       ['Tata Indigo LS'],\n       ['Tata Indigo CS'],\n       ['Hyundai Eon Era'],\n       ['Maruti Suzuki Alto'],\n       ['Honda City 1.5'],\n       ['Tata Sumo Gold'],\n       ['Honda City'],\n       ['Hyundai i20 Magna'],\n       ['Maruti Suzuki Alto'],\n       ['Hyundai Elite i20'],\n       ['Ford EcoSport'],\n       ['Maruti Suzuki Swift'],\n       ['Hyundai Elite i20'],\n       ['Hyundai Verna Fluidic'],\n       ['Audi Q3 2.0'],\n       ['Mahindra KUV100 K8'],\n       ['Mahindra XUV500 W10'],\n       ['Land Rover Freelander'],\n       ['Maruti Suzuki Swift'],\n       ['Tata Tigor Revotron'],\n       ['Maruti Suzuki Maruti'],\n       ['Skoda Fabia 1.2L'],\n       ['Hyundai Eon'],\n       ['Chevrolet Beat Diesel'],\n       ['Mahindra Scorpio SLE'],\n       ['Hyundai Santro Xing'],\n       ['Maruti Suzuki Alto'],\n       ['Tata Indigo CS'],\n       ['BMW X1'],\n       ['Maruti Suzuki S'],\n       ['Honda City ZX'],\n       ['Maruti Suzuki Ertiga'],\n       ['Maruti Suzuki Swift'],\n       ['Hyundai Verna 1.6'],\n       ['Toyota Innova 2.5'],\n       ['Hyundai i20 Magna'],\n       ['Hyundai Creta 1.6'],\n       ['Renault Duster 110PS'],\n       ['Hyundai Elite i20'],\n       ['Honda City SV'],\n       ['Maruti Suzuki Ertiga'],\n       ['Tata Tiago Revotron'],\n       ['Maruti Suzuki Alto'],\n       ['Maruti Suzuki Dzire'],\n       ['Mini Cooper S'],\n       ['Tata Indigo eCS'],\n       ['Hyundai Santro Xing'],\n       ['Maruti Suzuki Swift'],\n       ['Honda Jazz VX'],\n       ['Tata Indigo CS'],\n       ['Renault Duster 110'],\n       ['Maruti Suzuki Swift'],\n       ['Maruti Suzuki Ertiga'],\n       ['Maruti Suzuki Vitara'],\n       ['Hyundai i20 Sportz'],\n       ['Renault Duster 110PS'],\n       ['Volkswagen Jetta Highline'],\n       ['Ford Figo'],\n       ['Maruti Suzuki Swift'],\n       ['Maruti Suzuki Wagon'],\n       ['Hyundai Grand i10'],\n       ['Hyundai Creta 1.6'],\n       ['Hyundai Grand i10'],\n       ['Maruti Suzuki Swift'],\n       ['Maruti Suzuki Omni'],\n       ['Mahindra Scorpio'],\n       ['Tata Nano'],\n       ['Mahindra Scorpio'],\n       ['Honda Brio VX'],\n       ['Tata Nano GenX'],\n       ['Hyundai Eon D'],\n       ['Ford EcoSport Titanium'],\n       ['Honda City VX'],\n       ['Hyundai Elantra 1.8'],\n       ['Maruti Suzuki Stingray'],\n       ['Hyundai i20 Magna'],\n       ['Maruti Suzuki Wagon'],\n       ['Tata Sumo Victa'],\n       ['Maruti Suzuki Ciaz'],\n       ['Mahindra TUV300 T4'],\n       ['Ford Fiesta'],\n       ['Tata Tiago Revotron'],\n       ['Mahindra Thar CRDe'],\n       ['Maruti Suzuki Dzire'],\n       ['Chevrolet Beat LS'],\n       ['Hyundai Grand i10'],\n       ['Tata Indica V2'],\n       ['Maruti Suzuki Swift'],\n       ['Hyundai Santro Xing'],\n       ['Mini Cooper S'],\n       ['Honda Amaze 1.2'],\n       ['Maruti Suzuki Wagon'],\n       ['Maruti Suzuki Vitara'],\n       ['Skoda Superb 1.8'],\n       ['Datsun Redi GO'],\n       ['Mitsubishi Pajero Sport'],\n       ['Maruti Suzuki Dzire'],\n       ['Honda Amaze'],\n       ['Hyundai Eon Magna'],\n       ['Toyota Etios Liva'],\n       ['Honda City VX'],\n       ['Maruti Suzuki Alto'],\n       ['Maruti Suzuki Alto'],\n       ['Maruti Suzuki Eeco'],\n       ['Maruti Suzuki Alto'],\n       ['Mitsubishi Pajero Sport'],\n       ['Toyota Etios G'],\n       ['Maruti Suzuki Alto'],\n       ['Mercedes Benz GLA'],\n       ['Maruti Suzuki Swift'],\n       ['Maruti Suzuki Ritz'],\n       ['BMW 3 Series'],\n       ['Renault Kwid'],\n       ['Maruti Suzuki Swift'],\n       ['Maruti Suzuki Swift'],\n       ['Hyundai Verna 1.4'],\n       ['Hyundai Getz Prime'],\n       ['Tata Tiago Revotorq'],\n       ['Tata Indica V2'],\n       ['Mitsubishi Pajero Sport'],\n       ['Ford EcoSport Titanium'],\n       ['Hyundai Xcent Base'],\n       ['Audi A4 2.0'],\n       ['Ford Fusion 1.4'],\n       ['Toyota Corolla Altis'],\n       ['Hyundai Eon Era'],\n       ['Maruti Suzuki Wagon'],\n       ['Maruti Suzuki Alto'],\n       ['Renault Scala RxL'],\n       ['Ford Figo Diesel'],\n       ['Maruti Suzuki Swift'],\n       ['Tata Sumo Gold'],\n       ['Honda Brio'],\n       ['Hindustan Motors Ambassador'],\n       ['Force Motors Force'],\n       ['Chevrolet Beat PS'],\n       ['Tata Indica V2'],\n       ['BMW X1 sDrive20d'],\n       ['Maruti Suzuki Swift'],\n       ['Honda Amaze'],\n       ['Hyundai Grand i10'],\n       ['Hyundai Verna Fluidic'],\n       ['Maruti Suzuki Alto'],\n       ['Renault Scala RxL'],\n       ['Honda Accord'],\n       ['Mahindra Scorpio VLX'],\n       ['Toyota Etios'],\n       ['Mahindra Scorpio S10'],\n       ['Force Motors Force'],\n       ['Mitsubishi Pajero Sport'],\n       ['Maruti Suzuki Esteem'],\n       ['Toyota Etios'],\n       ['Maruti Suzuki Maruti'],\n       ['Mahindra Quanto C8'],\n       ['Volkswagen Polo Highline'],\n       ['Hyundai i20 Sportz'],\n       ['Toyota Corolla Altis'],\n       ['Hyundai Verna Fluidic'],\n       ['Tata Indigo CS'],\n       ['Renault Duster 85'],\n       ['Maruti Suzuki Ciaz'],\n       ['Maruti Suzuki Omni'],\n       ['Tata Zest XM'],\n       ['Maruti Suzuki Maruti'],\n       ['Maruti Suzuki 800'],\n       ['Skoda Fabia'],\n       ['Mahindra Scorpio 2.6'],\n       ['Maruti Suzuki Swift'],\n       ['Mahindra Scorpio S10'],\n       ['Audi Q5 2.0'],\n       ['Renault Duster'],\n       ['Renault Duster 85'],\n       ['Fiat Petra ELX'],\n       ['Honda Amaze 1.2'],\n       ['Maruti Suzuki Wagon'],\n       ['Hyundai Getz GLE'],\n       ['Tata Indica eV2'],\n       ['Mini Cooper S'],\n       ['Mahindra Scorpio 2.6'],\n       ['Mahindra Bolero DI'],\n       ['Maruti Suzuki Omni'],\n       ['Mahindra Logan Diesel'],\n       ['Hyundai Grand i10'],\n       ['Mahindra Scorpio Vlx'],\n       ['Mahindra Bolero Power'],\n       ['Ford EcoSport Trend'],\n       ['Honda City'],\n       ['Hyundai Eon Sportz'],\n       ['Maruti Suzuki Dzire'],\n       ['Hyundai Getz Prime'],\n       ['Nissan X Trail'],\n       ['Mahindra Quanto C8'],\n       ['Maruti Suzuki Swift'],\n       ['Maruti Suzuki Baleno'],\n       ['Mahindra Xylo D2'],\n       ['Tata Sumo Gold'],\n       ['Volkswagen Polo'],\n       ['Renault Duster'],\n       ['Maruti Suzuki Omni'],\n       ['Hyundai i10 Magna'],\n       ['Audi A4 2.0'],\n       ['Maruti Suzuki Alto'],\n       ['Mini Cooper S'],\n       ['Fiat Punto Emotion'],\n       ['Maruti Suzuki Alto'],\n       ['Hyundai Elite i20'],\n       ['Hyundai i10 Magna'],\n       ['Mahindra Scorpio S4'],\n       ['Maruti Suzuki Ritz'],\n       ['Tata Indigo eCS'],\n       ['Maruti Suzuki Zen'],\n       ['Hyundai Grand i10'],\n       ['Honda City'],\n       ['Maruti Suzuki Wagon'],\n       ['Hyundai Santro Xing'],\n       ['Mercedes Benz C'],\n       ['Mahindra Scorpio S10'],\n       ['Mahindra Logan'],\n       ['Hyundai Grand i10'],\n       ['Hyundai Eon'],\n       ['Maruti Suzuki Ritz'],\n       ['Ford Figo Duratorq'],\n       ['Tata Sumo Grande'],\n       ['Maruti Suzuki Omni'],\n       ['Chevrolet Spark'],\n       ['Hyundai i10 Magna'],\n       ['Tata Sumo Gold'],\n       ['Maruti Suzuki Alto'],\n       ['Maruti Suzuki Dzire'],\n       ['Volkswagen Polo'],\n       ['Mahindra Quanto C8'],\n       ['Tata Zest XE'],\n       ['Hyundai Verna VGT'],\n       ['Tata Indigo eCS'],\n       ['Mahindra Scorpio VLX'],\n       ['Mahindra Bolero SLE'],\n       ['Hyundai i10'],\n       ['Maruti Suzuki Zen'],\n       ['Maruti Suzuki Alto'],\n       ['Maruti Suzuki Swift'],\n       ['Mahindra TUV300 T4'],\n       ['Maruti Suzuki SX4'],\n       ['Maruti Suzuki Alto'],\n       ['BMW 5 Series'],\n       ['Honda City ZX'],\n       ['Hyundai Santro Xing'],\n       ['Honda WR V'],\n       ['Mahindra XUV500 W8'],\n       ['Mahindra XUV500 W8'],\n       ['Honda City 1.5'],\n       ['Volvo S80 Summum'],\n       ['Tata Indica V2'],\n       ['Hyundai i20 Asta'],\n       ['Nissan Micra XV'],\n       ['Maruti Suzuki Swift'],\n       ['Mahindra Jeep MM'],\n       ['Hyundai Elite i20'],\n       ['Hyundai Elite i20'],\n       ['Honda Amaze 1.5'],\n       ['Maruti Suzuki Zen'],\n       ['Toyota Etios Liva'],\n       ['Hyundai Verna Fluidic'],\n       ['Maruti Suzuki SX4'],\n       ['Ford EcoSport Trend'],\n       ['Renault Duster 85PS'],\n       ['Hyundai i20 Select'],\n       ['Maruti Suzuki Swift'],\n       ['Hyundai i20 Asta'],\n       ['Honda City'],\n       ['Maruti Suzuki Vitara'],\n       ['Tata Indica eV2'],\n       ['Hyundai Eon'],\n       ['Hyundai Getz'],\n       ['Skoda Fabia Classic'],\n       ['Maruti Suzuki Wagon'],\n       ['Tata Indigo CS'],\n       ['Honda City'],\n       ['Mini Cooper S'],\n       ['Skoda Fabia 1.2L'],\n       ['Hyundai Fluidic Verna'],\n       ['Maruti Suzuki Zen'],\n       ['Hyundai Santro Xing'],\n       ['Hyundai Grand i10'],\n       ['Hyundai i10 Sportz'],\n       ['Mahindra Jeep CL550'],\n       ['Maruti Suzuki Wagon'],\n       ['Maruti Suzuki Alto'],\n       ['Honda City 1.5'],\n       ['Honda Brio'],\n       ['Tata Indigo eCS'],\n       ['Maruti Suzuki Esteem'],\n       ['Mahindra Bolero DI'],\n       ['Maruti Suzuki Dzire'],\n       ['Maruti Suzuki Dzire'],\n       ['Ford EcoSport Titanium'],\n       ['Mahindra Scorpio S10'],\n       ['Maruti Suzuki Zen'],\n       ['Toyota Fortuner 3.0'],\n       ['Maruti Suzuki Wagon'],\n       ['Volkswagen Vento Highline'],\n       ['Hyundai Santro Xing'],\n       ['Mahindra Quanto C4'],\n       ['Hyundai Grand i10'],\n       ['Mahindra Scorpio W'],\n       ['Mahindra Scorpio 2.6'],\n       ['Ford Figo'],\n       ['Renault Duster'],\n       ['Ford EcoSport Trend'],\n       ['Hyundai Santro'],\n       ['Maruti Suzuki Swift'],\n       ['Force Motors Force'],\n       ['Renault Duster'],\n       ['Mitsubishi Lancer 1.8'],\n       ['Chevrolet Beat LS'],\n       ['Hyundai Santro Xing'],\n       ['Mahindra Scorpio SLX'],\n       ['Skoda Yeti Ambition'],\n       ['Hyundai Accent GLE'],\n       ['Hyundai Grand i10'],\n       ['Skoda Laura'],\n       ['Chevrolet Beat LS'],\n       ['Honda City'],\n       ['Mahindra XUV500 W8'],\n       ['Mahindra XUV500 W6'],\n       ['Maruti Suzuki Ertiga'],\n       ['Chevrolet Spark LT'],\n       ['Mahindra Scorpio LX'],\n       ['Ford EcoSport Trend'],\n       ['Hyundai Santro'],\n       ['Maruti Suzuki Dzire'],\n       ['Mahindra KUV100'],\n       ['Hyundai Elantra SX'],\n       ['Maruti Suzuki Ritz']], dtype=object)"
          },
          "metadata": {}
        }
      ],
      "execution_count": 66,
      "metadata": {}
    },
    {
      "cell_type": "code",
      "source": [
        "X_train['name'].to_numpy()"
      ],
      "outputs": [
        {
          "output_type": "execute_result",
          "execution_count": 61,
          "data": {
            "text/plain": "array(['Honda City 1.5', 'Hyundai Santro AE', 'Ford EcoSport',\n       'Tata Indica V2', 'Ford EcoSport Titanium', 'Honda Brio V',\n       'Honda City', 'Mahindra Jeep CL550', 'Fiat Petra ELX',\n       'Tata Manza ELAN', 'Maruti Suzuki Omni', 'Renault Duster 110',\n       'Maruti Suzuki Swift', 'Hyundai Elite i20', 'Honda Amaze',\n       'Hyundai Santro Xing', 'Mahindra Scorpio S10', 'Tata Manza Aura',\n       'Toyota Corolla Altis', 'Hyundai Eon D', 'Mahindra Xylo E8',\n       'Maruti Suzuki Alto', 'Tata Zest XE', 'Tata Venture EX',\n       'Maruti Suzuki Alto', 'Hyundai Verna 1.6', 'Mahindra XUV500',\n       'Maruti Suzuki Swift', 'Hyundai Accent Executive',\n       'Maruti Suzuki Ertiga', 'Chevrolet Tavera LS', 'Mercedes Benz B',\n       'Audi A4 2.0', 'Jaguar XE XE', 'Mahindra Xylo E4',\n       'Maruti Suzuki Swift', 'Maruti Suzuki Ritz', 'Maruti Suzuki SX4',\n       'Toyota Etios GD', 'Honda Amaze 1.5', 'Honda City 1.5',\n       'Maruti Suzuki Versa', 'Maruti Suzuki Swift', 'Maruti Suzuki Alto',\n       'Maruti Suzuki Versa', 'Mahindra Scorpio S10', 'Toyota Innova 2.5',\n       'Chevrolet Beat Diesel', 'Maruti Suzuki Dzire',\n       'Toyota Innova 2.5', 'Maruti Suzuki Wagon', 'Chevrolet Beat LS',\n       'Hyundai Creta 1.6', 'Mahindra XUV500 W8', 'Skoda Laura',\n       'Renault Kwid 1.0', 'Toyota Innova 2.0', 'Datsun Redi GO',\n       'Maruti Suzuki Ertiga', 'Chevrolet Beat Diesel',\n       'Maruti Suzuki Alto', 'Hyundai Accent', 'Maruti Suzuki Alto',\n       'Hindustan Motors Ambassador', 'Maruti Suzuki Wagon',\n       'Mahindra KUV100 K8', 'Ford Ikon 1.6', 'Toyota Fortuner 3.0',\n       'Fiat Linea Emotion', 'Mahindra KUV100', 'Audi A6 2.0',\n       'Hyundai Verna', 'Chevrolet Sail 1.2', 'Hyundai i20 Sportz',\n       'Maruti Suzuki Wagon', 'Toyota Etios GD', 'Mahindra Scorpio S4',\n       'Honda Amaze 1.5', 'Tata Indica V2', 'Audi Q7', 'Audi A4 1.8',\n       'Honda City 1.5', 'Tata Indigo eCS', 'Maruti Suzuki Swift',\n       'Maruti Suzuki Alto', 'Maruti Suzuki Zen', 'Hyundai i10 Magna',\n       'Maruti Suzuki Wagon', 'Hyundai Eon Magna', 'Ford Fiesta SXi',\n       'Jaguar XF 2.2', 'Nissan Sunny', 'Mahindra Xylo E4',\n       'Maruti Suzuki Alto', 'Hyundai Elite i20', 'Maruti Suzuki Swift',\n       'Hyundai i20 Magna', 'Maruti Suzuki Dzire', 'Maruti Suzuki A',\n       'Honda Mobilio S', 'Maruti Suzuki Wagon', 'Chevrolet Spark LS',\n       'Ford Figo Petrol', 'Maruti Suzuki Ertiga', 'Maruti Suzuki Wagon',\n       'Toyota Corolla Altis', 'Maruti Suzuki Swift', 'Hyundai i10 Era',\n       'Hyundai Santro AE', 'Volkswagen Vento Konekt',\n       'Mahindra TUV300 T4', 'Tata Manza Aqua', 'Maruti Suzuki Swift',\n       'Hyundai i20 Asta', 'BMW X1 xDrive20d', 'Tata Indigo eCS',\n       'Maruti Suzuki Wagon', 'Honda City 1.5', 'Maruti Suzuki Wagon',\n       'Maruti Suzuki Zen', 'Mahindra Scorpio S10', 'Mahindra Jeep CL550',\n       'Maruti Suzuki Estilo', 'Maruti Suzuki Esteem',\n       'Hyundai Elite i20', 'Hyundai Elite i20', 'Toyota Corolla Altis',\n       'Maruti Suzuki Versa', 'Hyundai Getz Prime', 'Hyundai i20 Magna',\n       'Hindustan Motors Ambassador', 'Maruti Suzuki Alto',\n       'Renault Kwid RXT', 'Maruti Suzuki Alto', 'Honda City 1.5',\n       'Maruti Suzuki Swift', 'Maruti Suzuki Omni', 'Hyundai Grand i10',\n       'Mahindra Scorpio VLX', 'Hyundai i20 Sportz',\n       'Maruti Suzuki Wagon', 'Hyundai Eon', 'Tata Indica',\n       'Toyota Corolla Altis', 'Tata Indigo eCS', 'Maruti Suzuki Wagon',\n       'Mahindra XUV500 W6', 'Hyundai Fluidic Verna', 'Volkswagen Polo',\n       'Toyota Etios Liva', 'Volkswagen Vento Comfortline',\n       'Maruti Suzuki Dzire', 'Chevrolet Cruze LTZ', 'Hyundai i10 Sportz',\n       'Mahindra XUV500', 'Maruti Suzuki Alto', 'Mercedes Benz C',\n       'Renault Duster 85', 'Mahindra Scorpio VLX', 'Hyundai i10',\n       'Maruti Suzuki Swift', 'Nissan Terrano XL', 'Honda Amaze',\n       'Skoda Fabia Classic', 'Tata Indica V2', 'Hyundai i20 Active',\n       'Toyota Innova 2.5', 'Maruti Suzuki Alto', 'Maruti Suzuki Alto',\n       'Skoda Rapid Elegance', 'Chevrolet Beat LS', 'Toyota Innova 2.5',\n       'Maruti Suzuki Vitara', 'Hyundai Elite i20', 'Hyundai Verna 1.6',\n       'Volkswagen Polo Trendline', 'Jeep Wrangler Unlimited',\n       'Hyundai Verna 1.6', 'Chevrolet Enjoy', 'Mahindra Quanto C8',\n       'Mahindra XUV500', 'Honda Amaze', 'Tata Zest XE',\n       'Maruti Suzuki Alto', 'Volkswagen Jetta Comfortline',\n       'Chevrolet Sail UVA', 'Volkswagen Vento Konekt',\n       'Maruti Suzuki Zen', 'Datsun Redi GO', 'Maruti Suzuki Alto',\n       'Maruti Suzuki Swift', 'Maruti Suzuki SX4', 'Maruti Suzuki Swift',\n       'Maruti Suzuki Wagon', 'Chevrolet Spark 1.0',\n       'Ford EcoSport Ambiente', 'Maruti Suzuki Swift', 'Tata Sumo Gold',\n       'Nissan Sunny XL', 'Mahindra Scorpio SLX', 'Renault Lodgy 85',\n       'Hyundai Grand i10', 'Hyundai i20 Active', 'Hyundai Eon D',\n       'Mitsubishi Pajero Sport', 'Hyundai Verna Fluidic',\n       'Maruti Suzuki Zen', 'Chevrolet Beat LT', 'Mahindra Bolero SLE',\n       'Renault Duster 110', 'Maruti Suzuki Alto', 'Honda Amaze 1.2',\n       'Ford Ikon 1.3', 'Honda City', 'Maruti Suzuki Ertiga',\n       'Datsun Go Plus', 'Renault Duster 85', 'Maruti Suzuki Omni',\n       'Maruti Suzuki Wagon', 'Mahindra Scorpio SLE', 'Toyota Etios Liva',\n       'Honda City', 'Chevrolet Cruze LTZ', 'Tata Indigo eCS',\n       'Hyundai Elite i20', 'Hyundai Grand i10', 'Mini Cooper S',\n       'Maruti Suzuki Dzire', 'Hyundai Creta', 'Mahindra Quanto C8',\n       'Toyota Fortuner', 'Maruti Suzuki Wagon', 'Skoda Octavia Classic',\n       'Ford EcoSport Trend', 'Hyundai Verna Transform',\n       'Force Motors One', 'Maruti Suzuki Zen', 'Honda Mobilio',\n       'Hyundai Santro Xing', 'Hyundai Verna 1.6', 'Chevrolet Tavera Neo',\n       'Volkswagen Polo Comfortline', 'Hyundai Santro Xing',\n       'Toyota Corolla Altis', 'Skoda Fabia 1.2L', 'Renault Duster 85',\n       'Maruti Suzuki Ertiga', 'Chevrolet Tavera Neo',\n       'Mahindra Bolero DI', 'Mahindra TUV300 T8', 'Hyundai i20 Active',\n       'Maruti Suzuki Swift', 'Ford EcoSport Ambiente',\n       'Maruti Suzuki 800', 'Hyundai i20 Sportz', 'Mahindra Scorpio SLX',\n       'Tata Indigo Marina', 'Tata Indigo eCS', 'Tata Zest Quadrajet',\n       'Honda City', 'Chevrolet Beat LT', 'Renault Duster RxL',\n       'Tata Manza', 'Maruti Suzuki Alto', 'Tata Nano Cx',\n       'Maruti Suzuki Ertiga', 'Mahindra KUV100 K8', 'Hyundai Elite i20',\n       'Maruti Suzuki Eeco', 'Maruti Suzuki Swift', 'Toyota Fortuner 3.0',\n       'Maruti Suzuki Alto', 'Hyundai Fluidic Verna', 'Maruti Suzuki Zen',\n       'Mahindra Jeep MM', 'Chevrolet Enjoy 1.4', 'Mercedes Benz C',\n       'Volkswagen Polo Highline1.2L', 'Renault Kwid RXT',\n       'Maruti Suzuki Omni', 'Renault Duster 110PS', 'Datsun Redi GO',\n       'Hyundai Santro Xing', 'Maruti Suzuki Stingray',\n       'Hyundai i20 Asta', 'Hyundai Verna Fluidic', 'Tata Sumo Gold',\n       'Maruti Suzuki Wagon', 'Toyota Innova 2.0', 'Maruti Suzuki Alto',\n       'Skoda Fabia 1.2L', 'Honda Amaze', 'Volkswagen Polo Highline1.2L',\n       'Audi A3 Cabriolet', 'Maruti Suzuki Swift', 'Renault Scala RxL',\n       'Mahindra Xylo D2', 'Honda City', 'Maruti Suzuki Swift',\n       'Tata Indigo LX', 'BMW 3 Series', 'Tata Zest XE',\n       'Maruti Suzuki Celerio', 'Hyundai i20 Asta', 'Tata Indigo eCS',\n       'Ford EcoSport Titanium', 'Hyundai Xcent SX',\n       'Mahindra Scorpio S10', 'Tata Indica V2', 'Tata Indigo CS',\n       'Toyota Corolla', 'Volkswagen Polo', 'Maruti Suzuki Baleno',\n       'Maruti Suzuki Alto', 'Honda City 1.5', 'Mahindra Jeep CL550',\n       'Maruti Suzuki Alto', 'Mahindra Xylo E8', 'Maruti Suzuki Alto',\n       'Tata Indigo LS', 'Tata Indigo CS', 'Hyundai Eon Era',\n       'Maruti Suzuki Alto', 'Honda City 1.5', 'Tata Sumo Gold',\n       'Honda City', 'Hyundai i20 Magna', 'Maruti Suzuki Alto',\n       'Hyundai Elite i20', 'Ford EcoSport', 'Maruti Suzuki Swift',\n       'Hyundai Elite i20', 'Hyundai Verna Fluidic', 'Audi Q3 2.0',\n       'Mahindra KUV100 K8', 'Mahindra XUV500 W10',\n       'Land Rover Freelander', 'Maruti Suzuki Swift',\n       'Tata Tigor Revotron', 'Maruti Suzuki Maruti', 'Skoda Fabia 1.2L',\n       'Hyundai Eon', 'Chevrolet Beat Diesel', 'Mahindra Scorpio SLE',\n       'Hyundai Santro Xing', 'Maruti Suzuki Alto', 'Tata Indigo CS',\n       'BMW X1', 'Maruti Suzuki S', 'Honda City ZX',\n       'Maruti Suzuki Ertiga', 'Maruti Suzuki Swift', 'Hyundai Verna 1.6',\n       'Toyota Innova 2.5', 'Hyundai i20 Magna', 'Hyundai Creta 1.6',\n       'Renault Duster 110PS', 'Hyundai Elite i20', 'Honda City SV',\n       'Maruti Suzuki Ertiga', 'Tata Tiago Revotron',\n       'Maruti Suzuki Alto', 'Maruti Suzuki Dzire', 'Mini Cooper S',\n       'Tata Indigo eCS', 'Hyundai Santro Xing', 'Maruti Suzuki Swift',\n       'Honda Jazz VX', 'Tata Indigo CS', 'Renault Duster 110',\n       'Maruti Suzuki Swift', 'Maruti Suzuki Ertiga',\n       'Maruti Suzuki Vitara', 'Hyundai i20 Sportz',\n       'Renault Duster 110PS', 'Volkswagen Jetta Highline', 'Ford Figo',\n       'Maruti Suzuki Swift', 'Maruti Suzuki Wagon', 'Hyundai Grand i10',\n       'Hyundai Creta 1.6', 'Hyundai Grand i10', 'Maruti Suzuki Swift',\n       'Maruti Suzuki Omni', 'Mahindra Scorpio', 'Tata Nano',\n       'Mahindra Scorpio', 'Honda Brio VX', 'Tata Nano GenX',\n       'Hyundai Eon D', 'Ford EcoSport Titanium', 'Honda City VX',\n       'Hyundai Elantra 1.8', 'Maruti Suzuki Stingray',\n       'Hyundai i20 Magna', 'Maruti Suzuki Wagon', 'Tata Sumo Victa',\n       'Maruti Suzuki Ciaz', 'Mahindra TUV300 T4', 'Ford Fiesta',\n       'Tata Tiago Revotron', 'Mahindra Thar CRDe', 'Maruti Suzuki Dzire',\n       'Chevrolet Beat LS', 'Hyundai Grand i10', 'Tata Indica V2',\n       'Maruti Suzuki Swift', 'Hyundai Santro Xing', 'Mini Cooper S',\n       'Honda Amaze 1.2', 'Maruti Suzuki Wagon', 'Maruti Suzuki Vitara',\n       'Skoda Superb 1.8', 'Datsun Redi GO', 'Mitsubishi Pajero Sport',\n       'Maruti Suzuki Dzire', 'Honda Amaze', 'Hyundai Eon Magna',\n       'Toyota Etios Liva', 'Honda City VX', 'Maruti Suzuki Alto',\n       'Maruti Suzuki Alto', 'Maruti Suzuki Eeco', 'Maruti Suzuki Alto',\n       'Mitsubishi Pajero Sport', 'Toyota Etios G', 'Maruti Suzuki Alto',\n       'Mercedes Benz GLA', 'Maruti Suzuki Swift', 'Maruti Suzuki Ritz',\n       'BMW 3 Series', 'Renault Kwid', 'Maruti Suzuki Swift',\n       'Maruti Suzuki Swift', 'Hyundai Verna 1.4', 'Hyundai Getz Prime',\n       'Tata Tiago Revotorq', 'Tata Indica V2', 'Mitsubishi Pajero Sport',\n       'Ford EcoSport Titanium', 'Hyundai Xcent Base', 'Audi A4 2.0',\n       'Ford Fusion 1.4', 'Toyota Corolla Altis', 'Hyundai Eon Era',\n       'Maruti Suzuki Wagon', 'Maruti Suzuki Alto', 'Renault Scala RxL',\n       'Ford Figo Diesel', 'Maruti Suzuki Swift', 'Tata Sumo Gold',\n       'Honda Brio', 'Hindustan Motors Ambassador', 'Force Motors Force',\n       'Chevrolet Beat PS', 'Tata Indica V2', 'BMW X1 sDrive20d',\n       'Maruti Suzuki Swift', 'Honda Amaze', 'Hyundai Grand i10',\n       'Hyundai Verna Fluidic', 'Maruti Suzuki Alto', 'Renault Scala RxL',\n       'Honda Accord', 'Mahindra Scorpio VLX', 'Toyota Etios',\n       'Mahindra Scorpio S10', 'Force Motors Force',\n       'Mitsubishi Pajero Sport', 'Maruti Suzuki Esteem', 'Toyota Etios',\n       'Maruti Suzuki Maruti', 'Mahindra Quanto C8',\n       'Volkswagen Polo Highline', 'Hyundai i20 Sportz',\n       'Toyota Corolla Altis', 'Hyundai Verna Fluidic', 'Tata Indigo CS',\n       'Renault Duster 85', 'Maruti Suzuki Ciaz', 'Maruti Suzuki Omni',\n       'Tata Zest XM', 'Maruti Suzuki Maruti', 'Maruti Suzuki 800',\n       'Skoda Fabia', 'Mahindra Scorpio 2.6', 'Maruti Suzuki Swift',\n       'Mahindra Scorpio S10', 'Audi Q5 2.0', 'Renault Duster',\n       'Renault Duster 85', 'Fiat Petra ELX', 'Honda Amaze 1.2',\n       'Maruti Suzuki Wagon', 'Hyundai Getz GLE', 'Tata Indica eV2',\n       'Mini Cooper S', 'Mahindra Scorpio 2.6', 'Mahindra Bolero DI',\n       'Maruti Suzuki Omni', 'Mahindra Logan Diesel', 'Hyundai Grand i10',\n       'Mahindra Scorpio Vlx', 'Mahindra Bolero Power',\n       'Ford EcoSport Trend', 'Honda City', 'Hyundai Eon Sportz',\n       'Maruti Suzuki Dzire', 'Hyundai Getz Prime', 'Nissan X Trail',\n       'Mahindra Quanto C8', 'Maruti Suzuki Swift',\n       'Maruti Suzuki Baleno', 'Mahindra Xylo D2', 'Tata Sumo Gold',\n       'Volkswagen Polo', 'Renault Duster', 'Maruti Suzuki Omni',\n       'Hyundai i10 Magna', 'Audi A4 2.0', 'Maruti Suzuki Alto',\n       'Mini Cooper S', 'Fiat Punto Emotion', 'Maruti Suzuki Alto',\n       'Hyundai Elite i20', 'Hyundai i10 Magna', 'Mahindra Scorpio S4',\n       'Maruti Suzuki Ritz', 'Tata Indigo eCS', 'Maruti Suzuki Zen',\n       'Hyundai Grand i10', 'Honda City', 'Maruti Suzuki Wagon',\n       'Hyundai Santro Xing', 'Mercedes Benz C', 'Mahindra Scorpio S10',\n       'Mahindra Logan', 'Hyundai Grand i10', 'Hyundai Eon',\n       'Maruti Suzuki Ritz', 'Ford Figo Duratorq', 'Tata Sumo Grande',\n       'Maruti Suzuki Omni', 'Chevrolet Spark', 'Hyundai i10 Magna',\n       'Tata Sumo Gold', 'Maruti Suzuki Alto', 'Maruti Suzuki Dzire',\n       'Volkswagen Polo', 'Mahindra Quanto C8', 'Tata Zest XE',\n       'Hyundai Verna VGT', 'Tata Indigo eCS', 'Mahindra Scorpio VLX',\n       'Mahindra Bolero SLE', 'Hyundai i10', 'Maruti Suzuki Zen',\n       'Maruti Suzuki Alto', 'Maruti Suzuki Swift', 'Mahindra TUV300 T4',\n       'Maruti Suzuki SX4', 'Maruti Suzuki Alto', 'BMW 5 Series',\n       'Honda City ZX', 'Hyundai Santro Xing', 'Honda WR V',\n       'Mahindra XUV500 W8', 'Mahindra XUV500 W8', 'Honda City 1.5',\n       'Volvo S80 Summum', 'Tata Indica V2', 'Hyundai i20 Asta',\n       'Nissan Micra XV', 'Maruti Suzuki Swift', 'Mahindra Jeep MM',\n       'Hyundai Elite i20', 'Hyundai Elite i20', 'Honda Amaze 1.5',\n       'Maruti Suzuki Zen', 'Toyota Etios Liva', 'Hyundai Verna Fluidic',\n       'Maruti Suzuki SX4', 'Ford EcoSport Trend', 'Renault Duster 85PS',\n       'Hyundai i20 Select', 'Maruti Suzuki Swift', 'Hyundai i20 Asta',\n       'Honda City', 'Maruti Suzuki Vitara', 'Tata Indica eV2',\n       'Hyundai Eon', 'Hyundai Getz', 'Skoda Fabia Classic',\n       'Maruti Suzuki Wagon', 'Tata Indigo CS', 'Honda City',\n       'Mini Cooper S', 'Skoda Fabia 1.2L', 'Hyundai Fluidic Verna',\n       'Maruti Suzuki Zen', 'Hyundai Santro Xing', 'Hyundai Grand i10',\n       'Hyundai i10 Sportz', 'Mahindra Jeep CL550', 'Maruti Suzuki Wagon',\n       'Maruti Suzuki Alto', 'Honda City 1.5', 'Honda Brio',\n       'Tata Indigo eCS', 'Maruti Suzuki Esteem', 'Mahindra Bolero DI',\n       'Maruti Suzuki Dzire', 'Maruti Suzuki Dzire',\n       'Ford EcoSport Titanium', 'Mahindra Scorpio S10',\n       'Maruti Suzuki Zen', 'Toyota Fortuner 3.0', 'Maruti Suzuki Wagon',\n       'Volkswagen Vento Highline', 'Hyundai Santro Xing',\n       'Mahindra Quanto C4', 'Hyundai Grand i10', 'Mahindra Scorpio W',\n       'Mahindra Scorpio 2.6', 'Ford Figo', 'Renault Duster',\n       'Ford EcoSport Trend', 'Hyundai Santro', 'Maruti Suzuki Swift',\n       'Force Motors Force', 'Renault Duster', 'Mitsubishi Lancer 1.8',\n       'Chevrolet Beat LS', 'Hyundai Santro Xing', 'Mahindra Scorpio SLX',\n       'Skoda Yeti Ambition', 'Hyundai Accent GLE', 'Hyundai Grand i10',\n       'Skoda Laura', 'Chevrolet Beat LS', 'Honda City',\n       'Mahindra XUV500 W8', 'Mahindra XUV500 W6', 'Maruti Suzuki Ertiga',\n       'Chevrolet Spark LT', 'Mahindra Scorpio LX', 'Ford EcoSport Trend',\n       'Hyundai Santro', 'Maruti Suzuki Dzire', 'Mahindra KUV100',\n       'Hyundai Elantra SX', 'Maruti Suzuki Ritz'], dtype=object)"
          },
          "metadata": {}
        }
      ],
      "execution_count": 61,
      "metadata": {}
    },
    {
      "cell_type": "markdown",
      "source": [
        "ColumnTransformer"
      ],
      "metadata": {}
    },
    {
      "cell_type": "code",
      "source": [
        "from sklearn.compose import ColumnTransformer\n",
        "from sklearn.impute import SimpleImputer\n",
        "from sklearn.preprocessing import OrdinalEncoder\n",
        "\n"
      ],
      "outputs": [],
      "execution_count": 67,
      "metadata": {}
    },
    {
      "cell_type": "code",
      "source": [
        "transformer = ColumnTransformer(transformers=[\n",
        "    ('tnf1',SimpleImputer(),['somemean']),\n",
        "    ('tnf2', OrdinalEncoder(categories=[['mild','strong']]),['cough']),\n",
        "    ('tnf3', OneHotEncoder(drop='first',sparse=False),['name'])\n",
        "], remainder='passthrough')\n",
        "\n",
        "transformer.fit_transform(X_train)"
      ],
      "outputs": [],
      "execution_count": null,
      "metadata": {}
    }
  ],
  "metadata": {
    "kernelspec": {
      "name": "python38-azureml",
      "language": "python",
      "display_name": "Python 3.8 - AzureML"
    },
    "language_info": {
      "name": "python",
      "version": "3.8.1",
      "mimetype": "text/x-python",
      "codemirror_mode": {
        "name": "ipython",
        "version": 3
      },
      "pygments_lexer": "ipython3",
      "nbconvert_exporter": "python",
      "file_extension": ".py"
    },
    "orig_nbformat": 4,
    "kernel_info": {
      "name": "python38-azureml"
    },
    "nteract": {
      "version": "nteract-front-end@1.0.0"
    }
  },
  "nbformat": 4,
  "nbformat_minor": 0
}